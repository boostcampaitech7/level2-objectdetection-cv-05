{
 "cells": [
  {
   "cell_type": "code",
   "execution_count": 1,
   "metadata": {},
   "outputs": [],
   "source": [
    "import json\n",
    "import xml.etree.ElementTree as ET\n",
    "from xml.dom import minidom\n",
    "import os\n"
   ]
  },
  {
   "cell_type": "code",
   "execution_count": null,
   "metadata": {},
   "outputs": [],
   "source": [
    "def create_pascal_voc_xml(image_info, annotations, categories, output_dir):\n",
    "    root = ET.Element(\"annotation\")\n",
    "    \n",
    "    ET.SubElement(root, \"folder\").text = \"VOC2012\"\n",
    "    ET.SubElement(root, \"filename\").text = image_info['file_name']\n",
    "    \n",
    "    size = ET.SubElement(root, \"size\")\n",
    "    ET.SubElement(size, \"width\").text = str(image_info['width'])\n",
    "    ET.SubElement(size, \"height\").text = str(image_info['height'])\n",
    "    ET.SubElement(size, \"depth\").text = \"3\"\n",
    "    \n",
    "    ET.SubElement(root, \"segmented\").text = \"0\"\n",
    "    \n",
    "    for ann in annotations:\n",
    "        obj = ET.SubElement(root, \"object\")\n",
    "        ET.SubElement(obj, \"name\").text = categories[ann['category_id'] - 1]['name']\n",
    "        ET.SubElement(obj, \"pose\").text = \"Unspecified\"\n",
    "        ET.SubElement(obj, \"truncated\").text = \"0\"\n",
    "        ET.SubElement(obj, \"difficult\").text = \"0\"\n",
    "        \n",
    "        bbox = ET.SubElement(obj, \"bndbox\")\n",
    "        ET.SubElement(bbox, \"xmin\").text = str(int(ann['bbox'][0]))\n",
    "        ET.SubElement(bbox, \"ymin\").text = str(int(ann['bbox'][1]))\n",
    "        ET.SubElement(bbox, \"xmax\").text = str(int(ann['bbox'][0] + ann['bbox'][2]))\n",
    "        ET.SubElement(bbox, \"ymax\").text = str(int(ann['bbox'][1] + ann['bbox'][3]))\n",
    "    \n",
    "    xml_str = minidom.parseString(ET.tostring(root)).toprettyxml(indent=\"    \")\n",
    "    \n",
    "    with open(os.path.join(output_dir, os.path.splitext(image_info['file_name'])[0] + \".xml\"), \"w\") as f:\n",
    "        f.write(xml_str)\n"
   ]
  },
  {
   "cell_type": "code",
   "execution_count": null,
   "metadata": {},
   "outputs": [],
   "source": [
    "def convert_coco_to_pascal(coco_json, output_dir):\n",
    "    with open(coco_json, 'r') as f:\n",
    "        coco_data = json.load(f)\n",
    "    \n",
    "    if not os.path.exists(output_dir):\n",
    "        os.makedirs(output_dir)\n",
    "    \n",
    "    image_dict = {img['id']: img for img in coco_data['images']}\n",
    "    \n",
    "    for img_id, img_info in image_dict.items():\n",
    "        annotations = [ann for ann in coco_data['annotations'] if ann['image_id'] == img_id]\n",
    "        create_pascal_voc_xml(img_info, annotations, coco_data['categories'], output_dir)\n",
    "    \n",
    "    print(f\"Conversion complete. Pascal VOC XML files saved in {output_dir}\")"
   ]
  },
  {
   "cell_type": "code",
   "execution_count": null,
   "metadata": {},
   "outputs": [],
   "source": [
    "# 사용 예시\n",
    "coco_json_path = '/data/ephemeral/home/dataset/train.json'\n",
    "output_directory = '/data/ephemeral/home/dataset/pascal_voc_xml'\n",
    "convert_coco_to_pascal(coco_json_path, output_directory)"
   ]
  }
 ],
 "metadata": {
  "kernelspec": {
   "display_name": "base",
   "language": "python",
   "name": "python3"
  },
  "language_info": {
   "codemirror_mode": {
    "name": "ipython",
    "version": 3
   },
   "file_extension": ".py",
   "mimetype": "text/x-python",
   "name": "python",
   "nbconvert_exporter": "python",
   "pygments_lexer": "ipython3",
   "version": "3.10.13"
  }
 },
 "nbformat": 4,
 "nbformat_minor": 2
}
