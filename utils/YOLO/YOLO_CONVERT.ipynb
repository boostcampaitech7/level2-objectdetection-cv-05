{
 "cells": [
  {
   "cell_type": "code",
   "execution_count": null,
   "metadata": {
    "vscode": {
     "languageId": "plaintext"
    }
   },
   "outputs": [],
   "source": [
    "import os\n",
    "\n",
    "# 기본 경로 설정\n",
    "root_path = '/data/ephemeral/home'\n",
    "dir_name = 'dataset_final'\n",
    "\n",
    "# 이미지와 레이블의 서브 디렉토리 경로 설정\n",
    "image_dirs = ['images/train', 'images/valid', 'images/test']\n",
    "label_dirs = ['labels/train', 'labels/valid']\n",
    "\n",
    "# 모든 필요한 디렉토리 생성\n",
    "for dir in image_dirs + label_dirs:\n",
    "    os.makedirs(os.path.join(root_path, dir_name, dir), exist_ok=True)"
   ]
  },
  {
   "cell_type": "code",
   "execution_count": null,
   "metadata": {
    "vscode": {
     "languageId": "plaintext"
    }
   },
   "outputs": [],
   "source": [
    "\n",
    "import shutil\n",
    "import os\n",
    "import glob\n",
    "\n",
    "# KFold 번호 설정\n",
    "kfold_number = 0\n",
    "\n",
    "# 기존 및 새 디렉토리 경로 설정\n",
    "src_train_images = os.path.join(root_path, 'dataset/train')\n",
    "src_test_images = os.path.join(root_path, 'dataset/test')\n",
    "dest_train_images = os.path.join(root_path, dir_name, 'images/train')\n",
    "dest_test_images = os.path.join(root_path, dir_name, 'images/test')\n",
    "src_train_json = os.path.join(root_path, f'dataset/train_kfold_{kfold_number}.json')\n",
    "src_val_json = os.path.join(root_path, f'dataset/val_kfold_{kfold_number}.json')\n",
    "src_test_json = os.path.join(root_path, 'dataset/test.json')\n",
    "dest_json = os.path.join(root_path, dir_name)\n",
    "\n",
    "# train 이미지 복사\n",
    "for file in glob.glob(f'{src_train_images}/*.jpg'):\n",
    "    shutil.copy(file, dest_train_images)\n",
    "\n",
    "# test 이미지 복사\n",
    "for file in glob.glob(f'{src_test_images}/*.jpg'):\n",
    "    shutil.copy(file, dest_test_images)\n",
    "\n",
    "# JSON 파일 복사\n",
    "shutil.copy(src_train_json, dest_json)\n",
    "shutil.copy(src_val_json, dest_json)\n",
    "shutil.copy(src_test_json, dest_json)"
   ]
  },
  {
   "cell_type": "code",
   "execution_count": null,
   "metadata": {
    "vscode": {
     "languageId": "plaintext"
    }
   },
   "outputs": [],
   "source": [
    "\n",
    "train_json_path = os.path.join(root_path, dir_name, f'train_kfold_{kfold_number}.json')\n",
    "val_json_path = os.path.join(root_path, dir_name, f'val_kfold_{kfold_number}.json')\n",
    "label_path = os.path.join(root_path, dir_name, 'labels')\n",
    "\n",
    "!python coco2yolo.py -j {train_json_path} -o {label_path} -f train\n",
    "!python coco2yolo.py -j {val_json_path} -o {label_path} -f val"
   ]
  },
  {
   "cell_type": "code",
   "execution_count": null,
   "metadata": {
    "vscode": {
     "languageId": "plaintext"
    }
   },
   "outputs": [],
   "source": [
    "# 검증 세트 레이블이 저장된 디렉토리\n",
    "valid_label_dir = os.path.join(root_path, dir_name, 'labels/valid')\n",
    "\n",
    "# 이미지 디렉토리\n",
    "train_image_dir = os.path.join(root_path, dir_name, 'images/train')\n",
    "valid_image_dir = os.path.join(root_path, dir_name, 'images/valid')\n",
    "\n",
    "# valid 레이블에 해당하는 이미지 파일 찾기\n",
    "valid_labels = glob.glob(f'{valid_label_dir}/*.txt')\n",
    "\n",
    "for label_path in valid_labels:\n",
    "    image_path = label_path.replace('labels', 'images').replace('valid', 'train').replace('.txt', '.jpg')\n",
    "\n",
    "    if os.path.exists(image_path):\n",
    "        shutil.move(image_path, valid_image_dir)\n",
    "    else:\n",
    "        print('No image file exist ! : ', image_path)"
   ]
  }
 ],
 "metadata": {
  "language_info": {
   "name": "python"
  }
 },
 "nbformat": 4,
 "nbformat_minor": 2
}
