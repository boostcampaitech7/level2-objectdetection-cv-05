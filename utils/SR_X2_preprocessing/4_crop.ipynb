{
 "cells": [
  {
   "cell_type": "markdown",
   "metadata": {},
   "source": [
    "해상도를 두배 증가시킨 이미지를 1/4분할로 나누어 Dataset을 업데이트하는 코드"
   ]
  },
  {
   "cell_type": "code",
   "execution_count": null,
   "metadata": {},
   "outputs": [],
   "source": [
    "import random\n",
    "import os\n",
    "import json\n",
    "from PIL import Image\n",
    "import matplotlib.pyplot as plt\n",
    "import matplotlib.patches as patches\n",
    "import numpy as np\n",
    "from pycocotools.coco import COCO\n",
    "from tqdm import tqdm\n",
    "from datetime import datetime"
   ]
  },
  {
   "cell_type": "code",
   "execution_count": null,
   "metadata": {},
   "outputs": [],
   "source": [
    "# Dataset path\n",
    "# X2 된 이미지 폴더 지정\n",
    "dataDir = '/data/ephemeral/home/EDSR-PyTorch/experiment/test/results-Demo'\n",
    "# 업데이트 json 파일경로\n",
    "annotation_path = '/data/ephemeral/home/dataset/train_x2_crop.json'\n",
    "# 원본 json 파일 경로\n",
    "original_anno_path = '/data/ephemeral/home/dataset/train.json'\n",
    "\n",
    "# saved path\n",
    "subimgs_path = '/data/ephemeral/home/dataset/scale_x2_crop'\n",
    "updated_annotation_path = '/data/ephemeral/home/dataset/train_x2_crop.json'"
   ]
  },
  {
   "cell_type": "code",
   "execution_count": null,
   "metadata": {},
   "outputs": [],
   "source": [
    "def load_annotations(annotation_file):\n",
    "    with open(annotation_file, 'r') as f:\n",
    "        return json.load(f)"
   ]
  },
  {
   "cell_type": "code",
   "execution_count": null,
   "metadata": {},
   "outputs": [],
   "source": [
    "def get_image_annotations(annotations, image_id):\n",
    "    return [ann for ann in annotations if ann['image_id'] == image_id]"
   ]
  },
  {
   "cell_type": "code",
   "execution_count": null,
   "metadata": {},
   "outputs": [],
   "source": [
    "#anntation을 업뎃하는 함수\n",
    "def update_annotations_for_subimage(annotations, subimg_info, img_id):\n",
    "    updated_annotations = []\n",
    "    x_offset, y_offset, subimg_width, subimg_height = subimg_info\n",
    "\n",
    "    for ann in annotations:\n",
    "        x, y, width, height = ann['bbox']\n",
    "\n",
    "        # BBox가 subimg 영역과 겹치는지 확인\n",
    "        if (x + width > x_offset and x < x_offset + subimg_width and\n",
    "            y + height > y_offset and y < y_offset + subimg_height):\n",
    "            \n",
    "            # Update BBox coordinate\n",
    "            new_x = max(x - x_offset, 0)\n",
    "            new_y = max(y - y_offset, 0)\n",
    "            width = min(width, x+width - x_offset)\n",
    "            height = min(height, y+height - y_offset)\n",
    "\n",
    "            updated_ann = ann.copy()\n",
    "            updated_ann['bbox'] = [new_x, new_y, width, height]\n",
    "            updated_ann['image_id'] = img_id\n",
    "            updated_annotations.append(updated_ann)\n",
    "    \n",
    "    return updated_annotations"
   ]
  },
  {
   "cell_type": "code",
   "execution_count": null,
   "metadata": {},
   "outputs": [],
   "source": [
    "# Read annotation file\n",
    "with open(annotation_path, 'r') as file:\n",
    "    data = json.load(file)\n",
    "\n",
    "# Define new images and annotations\n",
    "new_images = []\n",
    "new_annotations = []\n",
    "new_img_id = max([img['id'] for img in data['images']]) + 1\n",
    "\n",
    "# Load images\n",
    "coco = COCO(annotation_path)\n",
    "image_files = os.listdir(os.path.join(dataDir, 'train'))"
   ]
  },
  {
   "cell_type": "code",
   "execution_count": null,
   "metadata": {},
   "outputs": [],
   "source": [
    "for idx in tqdm(image_files, desc=\"Processing images\"):\n",
    "    img = coco.loadImgs(int(idx.split('_')[0]))[0]\n",
    "    I = Image.open('{}/{}_x2_SR.png'.format(dataDir, img['file_name'].split('.')[0]))\n",
    "    img_width, img_height = I.size\n",
    "\n",
    "    # annotation ID\n",
    "    annIds = coco.getAnnIds(imgIds=img['id'], iscrowd=None)\n",
    "    anns = coco.loadAnns(annIds)\n",
    "\n",
    "    # 이미지를 4등분하는 영역 정의\n",
    "    subimages = [\n",
    "        (0, 0, img_width // 2, img_height // 2),  # 상단 왼쪽\n",
    "        (img_width // 2, 0, img_width // 2, img_height // 2),  # 상단 오른쪽\n",
    "        (0, img_height // 2, img_width // 2, img_height // 2),  # 하단 왼쪽\n",
    "        (img_width // 2, img_height // 2, img_width // 2, img_height // 2)  # 하단 오른쪽\n",
    "    ]\n",
    "\n",
    "    # Update annotations for each partial image\n",
    "    for i, subimg_info in enumerate(subimages):\n",
    "        updated_anns = update_annotations_for_subimage(anns, subimg_info, new_img_id)\n",
    "\n",
    "        # Draw X2 bounding box\n",
    "        x_offset, y_offset, subimg_width, subimg_height = subimg_info\n",
    "        subimg = I.crop((x_offset, y_offset, x_offset + subimg_width, y_offset + subimg_height))\n",
    "\n",
    "        subimg_filename = '{}_{}_x2_SR.png'.format(img['file_name'].split('.')[0], i)\n",
    "        # annotation file updated\n",
    "        if updated_anns:\n",
    "            new_img = {\n",
    "                \"width\": subimg_width,\n",
    "                \"height\": subimg_height,\n",
    "                \"file_name\": subimg_filename,\n",
    "                \"date_captured\": datetime.now().strftime('%Y-%m-%d %H:%M:%S'),\n",
    "                \"id\": new_img_id\n",
    "            }\n",
    "            new_images.append(new_img)\n",
    "            new_annotations.extend(updated_anns)\n",
    "\n",
    "            # bbox가 있는 경우만 subimg 저장 \n",
    "            subimg.save(os.path.join(subimgs_path, subimg_filename))\n",
    "        \n",
    "            new_img_id += 1"
   ]
  },
  {
   "cell_type": "code",
   "execution_count": null,
   "metadata": {},
   "outputs": [],
   "source": [
    "print(\"Updating annotation file...\")\n",
    "\n",
    "# 추가는 train.json 파일로 해야함\n",
    "with open(original_anno_path, 'r') as file:\n",
    "    original_data = json.load(file)\n",
    "\n",
    "original_data['images'].extend(new_images)\n",
    "original_data['annotations'].extend(new_annotations)\n",
    "\n",
    "with open(updated_annotation_path, 'w') as file:\n",
    "    json.dump(original_data, file, indent=2)\n",
    "\n",
    "print(\"Annotation file updated successfully.\")"
   ]
  }
 ],
 "metadata": {
  "kernelspec": {
   "display_name": "Python 3",
   "language": "python",
   "name": "python3"
  },
  "language_info": {
   "name": "python",
   "version": "3.11.9"
  }
 },
 "nbformat": 4,
 "nbformat_minor": 2
}
