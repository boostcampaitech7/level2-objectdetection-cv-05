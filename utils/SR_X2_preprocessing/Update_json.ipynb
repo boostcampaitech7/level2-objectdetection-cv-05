{
 "cells": [
  {
   "cell_type": "markdown",
   "metadata": {},
   "source": [
    "## ID가 중복되는 경우 고유 ID생성"
   ]
  },
  {
   "cell_type": "code",
   "execution_count": null,
   "metadata": {},
   "outputs": [],
   "source": [
    "import json\n",
    "\n",
    "def fix_annotation_ids(input_file, output_file):\n",
    "    with open(input_file, 'r') as f:\n",
    "        data = json.load(f)\n",
    "\n",
    "    # 새로운 고유 ID 생성을 위한 카운터\n",
    "    new_id = 1\n",
    "\n",
    "    # 각 annotation에 새로운 고유 ID 할당\n",
    "    for ann in data['annotations']:\n",
    "        ann['id'] = new_id\n",
    "        new_id += 1\n",
    "\n",
    "    # 수정된 JSON 저장\n",
    "    with open(output_file, 'w') as f:\n",
    "        json.dump(data, f, indent=2)\n",
    "\n",
    "    print(f\"Fixed JSON saved to {output_file}\")\n",
    "\n",
    "# 사용 예\n",
    "input_file = '/data/ephemeral/home/dataset/train_x2_crop.json'\n",
    "output_file = '/data/ephemeral/home/dataset/train_x2_crop_fixed.json'\n",
    "fix_annotation_ids(input_file, output_file)"
   ]
  },
  {
   "cell_type": "markdown",
   "metadata": {},
   "source": [
    "## 파일 이름 및 경로 수정하는 코드"
   ]
  },
  {
   "cell_type": "code",
   "execution_count": null,
   "metadata": {},
   "outputs": [],
   "source": [
    "def update_file_names(input_file, output_file):\n",
    "    # JSON 파일 읽기\n",
    "    with open(input_file, 'r') as f:\n",
    "        data = json.load(f)\n",
    "\n",
    "    # 이미지 정보 업데이트\n",
    "    for image in data['images']:\n",
    "        if image['file_name'].endswith('SR.png'):\n",
    "            # 기존 file_name에서 'train/'을 제거\n",
    "            file_name = image['file_name'].replace('train/', '')\n",
    "            # 새로운 경로 구성\n",
    "            image['file_name'] = f\"scale_x2_crop/train/{file_name}\"\n",
    "\n",
    "    # 업데이트된 데이터를 새 파일에 저장\n",
    "    with open(output_file, 'w') as f:\n",
    "        json.dump(data, f, indent=2)\n",
    "\n",
    "    print(f\"파일이 성공적으로 업데이트되었습니다. 결과는 {output_file}에 저장되었습니다.\")"
   ]
  },
  {
   "cell_type": "code",
   "execution_count": null,
   "metadata": {},
   "outputs": [],
   "source": [
    "# 사용 예시\n",
    "input_file = '/data/ephemeral/home/dataset/train_x2_crop_fixed.json'\n",
    "output_file = '/data/ephemeral/home/dataset/train_x2_crop_fixed_final.json'\n",
    "update_file_names(input_file, output_file)"
   ]
  }
 ],
 "metadata": {
  "kernelspec": {
   "display_name": "Python 3",
   "language": "python",
   "name": "python3"
  },
  "language_info": {
   "name": "python",
   "version": "3.11.9"
  }
 },
 "nbformat": 4,
 "nbformat_minor": 2
}
